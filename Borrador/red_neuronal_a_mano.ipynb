{
 "cells": [
  {
   "cell_type": "code",
   "execution_count": 2,
   "metadata": {
    "ExecuteTime": {
     "end_time": "2020-07-13T00:31:33.975811Z",
     "start_time": "2020-07-13T00:31:33.970151Z"
    }
   },
   "outputs": [],
   "source": [
    "import math\n",
    "import random"
   ]
  },
  {
   "cell_type": "code",
   "execution_count": 21,
   "metadata": {
    "ExecuteTime": {
     "end_time": "2020-07-12T04:29:45.274926Z",
     "start_time": "2020-07-12T04:29:45.270578Z"
    }
   },
   "outputs": [
    {
     "data": {
      "text/plain": [
       "(1, 5)"
      ]
     },
     "execution_count": 21,
     "metadata": {},
     "output_type": "execute_result"
    }
   ],
   "source": [
    "x= enumerate([1,5])\n",
    "x.__next__()\n",
    "x.__next__()"
   ]
  },
  {
   "cell_type": "code",
   "execution_count": 1,
   "metadata": {
    "ExecuteTime": {
     "end_time": "2020-07-13T00:31:30.523212Z",
     "start_time": "2020-07-13T00:31:30.518226Z"
    },
    "scrolled": true
   },
   "outputs": [],
   "source": [
    "#dir(enumerate([1,5]))\n"
   ]
  },
  {
   "cell_type": "code",
   "execution_count": 14,
   "metadata": {
    "ExecuteTime": {
     "end_time": "2020-07-13T00:33:24.334158Z",
     "start_time": "2020-07-13T00:33:24.323294Z"
    }
   },
   "outputs": [
    {
     "data": {
      "text/plain": [
       "[{'entradas': [0, 0, 1], 'salida': 1},\n",
       " {'entradas': [1, 0, 0], 'salida': 0},\n",
       " {'entradas': [0, 1, 0], 'salida': 0},\n",
       " {'entradas': [1, 1, 1], 'salida': 1},\n",
       " {'entradas': [0, 1, 1], 'salida': 1}]"
      ]
     },
     "execution_count": 14,
     "metadata": {},
     "output_type": "execute_result"
    }
   ],
   "source": [
    "class Neurona():\n",
    "    def __init__(self):\n",
    "        random.seed(1) \n",
    "        self.pesos = [random.uniform(-1,1) for x in range(3)]\n",
    "\n",
    "    def __sumatoria(self,neurona_entrada):\n",
    "        suma= 0\n",
    "        for indice, neurona in enumerate(neurona_entrada):\n",
    "            suma+= self.pesos[indice] * neurona\n",
    "        return suma\n",
    "    \n",
    "    def __sigmoide(self,suma):\n",
    "        return 1 / (1+ math.exp(-suma))\n",
    "    \n",
    "    def respuesta(self, neurona_entrada):\n",
    "        suma = self.__sumatoria(neurona_entrada)\n",
    "        neurona_respuesta = self.__sigmoide(suma)\n",
    "        return neurona_respuesta\n",
    "    \n",
    "    def __gradiente(self,neurona_respuesta):\n",
    "        return neurona_respuesta * (1-neurona_respuesta)\n",
    "    \n",
    "    \n",
    "    def entrenamiento(self,ejemplos,epocas):\n",
    "        for iteracion in range(epocas):\n",
    "            for ejemplo in ejemplos:\n",
    "                prediccion = self.respuesta(ejemplo[\"entradas\"])\n",
    "                error = ejemplo[\"salida\"]-prediccion\n",
    "                \n",
    "                for indice in range(len(self.pesos)):\n",
    "                    neurona_entrada = ejemplo[\"entradas\"][indice]\n",
    "                    ajustar_peso = neurona_entrada * error * self.__gradiente(prediccion)\n",
    "                    \n",
    "                    self.pesos[indice] += ajustar_peso\n",
    "\n",
    "ejemplos =[{\"entradas\": [0,0,1],\"salida\": 1},\n",
    "           {\"entradas\": [1,0,0],\"salida\": 0},\n",
    "           {\"entradas\": [0,1,0],\"salida\": 0},\n",
    "           {\"entradas\": [1,1,1],\"salida\": 1},\n",
    "           {\"entradas\": [0,1,1],\"salida\": 1}\n",
    "          ]\n",
    "ejemplos"
   ]
  },
  {
   "cell_type": "code",
   "execution_count": 15,
   "metadata": {
    "ExecuteTime": {
     "end_time": "2020-07-13T00:33:26.801477Z",
     "start_time": "2020-07-13T00:33:26.797226Z"
    }
   },
   "outputs": [],
   "source": [
    "neurona= Neurona()"
   ]
  },
  {
   "cell_type": "code",
   "execution_count": 32,
   "metadata": {
    "ExecuteTime": {
     "end_time": "2020-07-13T00:37:09.141974Z",
     "start_time": "2020-07-13T00:37:09.005374Z"
    }
   },
   "outputs": [],
   "source": [
    "neurona100=Neurona()\n",
    "neurona100.entrenamiento(ejemplos,10000)\n"
   ]
  },
  {
   "cell_type": "code",
   "execution_count": 33,
   "metadata": {
    "ExecuteTime": {
     "end_time": "2020-07-13T00:37:14.854747Z",
     "start_time": "2020-07-13T00:37:14.851275Z"
    }
   },
   "outputs": [
    {
     "data": {
      "text/plain": [
       "[-0.7825165156052328, 0.11877024947443979, 1.8270176764625359]"
      ]
     },
     "execution_count": 33,
     "metadata": {},
     "output_type": "execute_result"
    }
   ],
   "source": [
    "neurona.pesos"
   ]
  },
  {
   "cell_type": "code",
   "execution_count": 34,
   "metadata": {
    "ExecuteTime": {
     "end_time": "2020-07-13T00:37:17.125734Z",
     "start_time": "2020-07-13T00:37:17.119165Z"
    }
   },
   "outputs": [],
   "source": [
    "neurona.entrenamiento(ejemplos,10)"
   ]
  },
  {
   "cell_type": "code",
   "execution_count": 18,
   "metadata": {
    "ExecuteTime": {
     "end_time": "2020-07-13T00:33:32.623038Z",
     "start_time": "2020-07-13T00:33:32.615237Z"
    }
   },
   "outputs": [
    {
     "data": {
      "text/plain": [
       "[-0.7825165156052328, 0.11877024947443979, 1.8270176764625359]"
      ]
     },
     "execution_count": 18,
     "metadata": {},
     "output_type": "execute_result"
    }
   ],
   "source": [
    "neurona.pesos"
   ]
  },
  {
   "cell_type": "code",
   "execution_count": 35,
   "metadata": {
    "ExecuteTime": {
     "end_time": "2020-07-13T00:37:21.892465Z",
     "start_time": "2020-07-13T00:37:21.888805Z"
    }
   },
   "outputs": [
    {
     "data": {
      "text/plain": [
       "0.9280044453467289"
      ]
     },
     "metadata": {},
     "output_type": "display_data"
    },
    {
     "data": {
      "text/plain": [
       "0.9999972344120964"
      ]
     },
     "metadata": {},
     "output_type": "display_data"
    }
   ],
   "source": [
    "display(neurona.respuesta([0,0,1]),\n",
    "        neurona100.respuesta([0,0,1]))"
   ]
  },
  {
   "cell_type": "code",
   "execution_count": 36,
   "metadata": {
    "ExecuteTime": {
     "end_time": "2020-07-13T00:37:28.605477Z",
     "start_time": "2020-07-13T00:37:28.601526Z"
    }
   },
   "outputs": [
    {
     "data": {
      "text/plain": [
       "0.2876955929155485"
      ]
     },
     "metadata": {},
     "output_type": "display_data"
    },
    {
     "data": {
      "text/plain": [
       "0.01452887575633427"
      ]
     },
     "metadata": {},
     "output_type": "display_data"
    }
   ],
   "source": [
    "display(neurona.respuesta([1,0,0]),\n",
    "        neurona100.respuesta([1,0,0]))"
   ]
  },
  {
   "cell_type": "code",
   "execution_count": 37,
   "metadata": {
    "ExecuteTime": {
     "end_time": "2020-07-13T00:37:31.559339Z",
     "start_time": "2020-07-13T00:37:31.554361Z"
    }
   },
   "outputs": [
    {
     "data": {
      "text/plain": [
       "0.4003042217719364"
      ]
     },
     "metadata": {},
     "output_type": "display_data"
    },
    {
     "data": {
      "text/plain": [
       "0.01453055965104759"
      ]
     },
     "metadata": {},
     "output_type": "display_data"
    }
   ],
   "source": [
    "display(neurona.respuesta([0,1,0]),\n",
    "        neurona100.respuesta([0,1,0]))"
   ]
  },
  {
   "cell_type": "code",
   "execution_count": 38,
   "metadata": {
    "ExecuteTime": {
     "end_time": "2020-07-13T00:37:34.276724Z",
     "start_time": "2020-07-13T00:37:34.270465Z"
    }
   },
   "outputs": [
    {
     "data": {
      "text/plain": [
       "0.21235299193986004"
      ]
     },
     "metadata": {},
     "output_type": "display_data"
    },
    {
     "data": {
      "text/plain": [
       "0.0002173366099842952"
      ]
     },
     "metadata": {},
     "output_type": "display_data"
    }
   ],
   "source": [
    "display(neurona.respuesta([1,1,0]),\n",
    "        neurona100.respuesta([1,1,0]))"
   ]
  },
  {
   "cell_type": "code",
   "execution_count": 39,
   "metadata": {
    "ExecuteTime": {
     "end_time": "2020-07-13T00:37:36.878852Z",
     "start_time": "2020-07-13T00:37:36.868206Z"
    }
   },
   "outputs": [
    {
     "data": {
      "text/plain": [
       "0.8388680380865523"
      ]
     },
     "metadata": {},
     "output_type": "display_data"
    },
    {
     "data": {
      "text/plain": [
       "0.9998124491220204"
      ]
     },
     "metadata": {},
     "output_type": "display_data"
    }
   ],
   "source": [
    "display(neurona.respuesta([1,0,1]),\n",
    "        neurona100.respuesta([1,0,1]))"
   ]
  },
  {
   "cell_type": "code",
   "execution_count": null,
   "metadata": {},
   "outputs": [],
   "source": []
  }
 ],
 "metadata": {
  "kernelspec": {
   "display_name": "Python 3",
   "language": "python",
   "name": "python3"
  },
  "language_info": {
   "codemirror_mode": {
    "name": "ipython",
    "version": 3
   },
   "file_extension": ".py",
   "mimetype": "text/x-python",
   "name": "python",
   "nbconvert_exporter": "python",
   "pygments_lexer": "ipython3",
   "version": "3.8.3"
  },
  "varInspector": {
   "cols": {
    "lenName": 16,
    "lenType": 16,
    "lenVar": 40
   },
   "kernels_config": {
    "python": {
     "delete_cmd_postfix": "",
     "delete_cmd_prefix": "del ",
     "library": "var_list.py",
     "varRefreshCmd": "print(var_dic_list())"
    },
    "r": {
     "delete_cmd_postfix": ") ",
     "delete_cmd_prefix": "rm(",
     "library": "var_list.r",
     "varRefreshCmd": "cat(var_dic_list()) "
    }
   },
   "types_to_exclude": [
    "module",
    "function",
    "builtin_function_or_method",
    "instance",
    "_Feature"
   ],
   "window_display": false
  }
 },
 "nbformat": 4,
 "nbformat_minor": 4
}
